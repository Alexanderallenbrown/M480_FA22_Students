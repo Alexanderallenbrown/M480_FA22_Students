{
 "cells": [
  {
   "cell_type": "markdown",
   "metadata": {
    "deletable": false,
    "editable": false,
    "nbgrader": {
     "cell_type": "markdown",
     "checksum": "17f487112e0445883a08b30ca3ccb55d",
     "grade": false,
     "grade_id": "cell-d58237eb678415c7",
     "locked": true,
     "schema_version": 3,
     "solution": false,
     "task": false
    },
    "toc": true
   },
   "source": [
    "<h1>Table of Contents<span class=\"tocSkip\"></span></h1>\n",
    "<div class=\"toc\"><ul class=\"toc-item\"><li><span><a href=\"#Finite-State-Machine\" data-toc-modified-id=\"Finite-State-Machine-1\"><span class=\"toc-item-num\">1&nbsp;&nbsp;</span>Finite State Machine</a></span></li><li><span><a href=\"#Model-Development:-Scoping-and-Construction\" data-toc-modified-id=\"Model-Development:-Scoping-and-Construction-2\"><span class=\"toc-item-num\">2&nbsp;&nbsp;</span>Model Development: Scoping and Construction</a></span></li><li><span><a href=\"#Model-Validation\" data-toc-modified-id=\"Model-Validation-3\"><span class=\"toc-item-num\">3&nbsp;&nbsp;</span>Model Validation</a></span></li><li><span><a href=\"#Performance-Assessment\" data-toc-modified-id=\"Performance-Assessment-4\"><span class=\"toc-item-num\">4&nbsp;&nbsp;</span>Performance Assessment</a></span></li><li><span><a href=\"#Next-Steps-(Optional)\" data-toc-modified-id=\"Next-Steps-(Optional)-5\"><span class=\"toc-item-num\">5&nbsp;&nbsp;</span>Next Steps (Optional)</a></span></li></ul></div>"
   ]
  },
  {
   "cell_type": "markdown",
   "metadata": {
    "deletable": false,
    "editable": false,
    "nbgrader": {
     "cell_type": "markdown",
     "checksum": "a86281ff626f1a06add995a2bf09fca4",
     "grade": false,
     "grade_id": "cell-a2fefbb6d3e763c8",
     "locked": true,
     "schema_version": 3,
     "solution": false,
     "task": false
    }
   },
   "source": [
    "# Finite State Machine\n",
    "\n",
    "Include your state transition diagram and table\n",
    "\n",
    "**You can add cells as needed, but DO NOT DELETE OR CHANGE THE TYPE OF THE CELL BELOW.**"
   ]
  },
  {
   "cell_type": "markdown",
   "metadata": {
    "deletable": false,
    "nbgrader": {
     "cell_type": "markdown",
     "checksum": "ca14e05c9f25fc2d69ce80a165269123",
     "grade": true,
     "grade_id": "cell-7d9eca55ff898e8b",
     "locked": false,
     "points": 10,
     "schema_version": 3,
     "solution": true,
     "task": false
    }
   },
   "source": [
    "YOUR ANSWER HERE"
   ]
  },
  {
   "cell_type": "markdown",
   "metadata": {
    "deletable": false,
    "editable": false,
    "nbgrader": {
     "cell_type": "markdown",
     "checksum": "1d9f4a72a83c573d8466219c23daaf53",
     "grade": false,
     "grade_id": "cell-a230bc94d0bd34d8",
     "locked": true,
     "schema_version": 3,
     "solution": false,
     "task": false
    }
   },
   "source": [
    "# Model Development: Scoping and Construction\n",
    "\n",
    "Show you model development in the cell below.  Hand written notes are acceptable if they are neat an easy to read.\n",
    "\n",
    "* Explain your model scoping steps including all modeling assumptions.  \n",
    "* Use a code cell to plot of your fit to your original data and calculates the model parameters for any models you develop.\n",
    "* Clearly report final model parameters with units\n",
    "\n",
    "**You can add cells as needed, but DO NOT DELETE OR CHANGE THE TYPE OF THE CELL BELOW.**"
   ]
  },
  {
   "cell_type": "markdown",
   "metadata": {
    "deletable": false,
    "nbgrader": {
     "cell_type": "markdown",
     "checksum": "e4999d10731da2a15f56fbda01a04f22",
     "grade": true,
     "grade_id": "cell-46cdd134e9a493e6",
     "locked": false,
     "points": 5,
     "schema_version": 3,
     "solution": true,
     "task": false
    }
   },
   "source": [
    "YOUR ANSWER HERE"
   ]
  },
  {
   "cell_type": "markdown",
   "metadata": {
    "deletable": false,
    "editable": false,
    "nbgrader": {
     "cell_type": "markdown",
     "checksum": "307cfd64d29c9e688202c13c70389be1",
     "grade": false,
     "grade_id": "cell-4a8a5a6e444c3c0f",
     "locked": true,
     "schema_version": 3,
     "solution": false,
     "task": false
    }
   },
   "source": [
    "# Model Validation\n",
    "\n",
    "Put your code that shows your model's comparison to data in the cell below \n",
    "* Use a code cell to show the comparison to runs made at conditions other than the original data set for validation\n",
    "* Discuss implications of the validation to the applicability of the model\n",
    "* Also include in a code cell the calculations you made with your model to make a prediction of the motor voltage and run time to achieve the desired distance/time requirements.\n",
    "\n",
    "**You can add cells as needed, but DO NOT DELETE OR CHANGE THE TYPE OF THE CELL BELOW.**"
   ]
  },
  {
   "cell_type": "code",
   "execution_count": null,
   "metadata": {
    "deletable": false,
    "nbgrader": {
     "cell_type": "code",
     "checksum": "3223025ecf15ba8493f392b03c03cbc6",
     "grade": true,
     "grade_id": "cell-d0c31ae989608751",
     "locked": false,
     "points": 5,
     "schema_version": 3,
     "solution": true,
     "task": false
    }
   },
   "outputs": [],
   "source": [
    "% YOUR CODE HERE\n",
    "error('No Answer Given!')"
   ]
  },
  {
   "cell_type": "markdown",
   "metadata": {
    "deletable": false,
    "editable": false,
    "nbgrader": {
     "cell_type": "markdown",
     "checksum": "e289944e2b26076252a333e8b54b8960",
     "grade": false,
     "grade_id": "cell-3e03cf53d40e71ed",
     "locked": true,
     "schema_version": 3,
     "solution": false,
     "task": false
    }
   },
   "source": [
    "# Performance Assessment\n",
    "\n",
    "Include the images of your zumo's performance and make a brief quantative comparison of the actual performance and the predicted performance in terms of timing and distance along with your assessment of why it performed as it did.\n",
    "\n",
    "**You can add cells as needed, but DO NOT DELETE OR CHANGE THE TYPE OF THE CELL BELOW.**"
   ]
  },
  {
   "cell_type": "markdown",
   "metadata": {
    "deletable": false,
    "nbgrader": {
     "cell_type": "markdown",
     "checksum": "41f3c513d5f40ad8cc7d6fdbe05f313d",
     "grade": true,
     "grade_id": "cell-4d8b6e14de9f2a52",
     "locked": false,
     "points": 10,
     "schema_version": 3,
     "solution": true,
     "task": false
    }
   },
   "source": [
    "YOUR ANSWER HERE"
   ]
  },
  {
   "cell_type": "markdown",
   "metadata": {
    "deletable": false,
    "editable": false,
    "nbgrader": {
     "cell_type": "markdown",
     "checksum": "811a97c289257853b7e293a8f9c08aa0",
     "grade": false,
     "grade_id": "cell-969a41f325070f3c",
     "locked": true,
     "schema_version": 3,
     "solution": false,
     "task": false
    }
   },
   "source": [
    "# Next Steps (Optional)\n",
    "\n",
    "If your zumo did not perform as expected, you can address issues after the demonstration and before the report is due and include that effort in this section.  However, **this Next Steps section should only include a discussion of issues that you addressed, not just identified.**  For exmaple, if your performance on demonstration day was poor and you later realize a code mistake, you can explain the mistake here and include updated results of the performance day runs as evidence the performance improved.  Points received for Next Steps will be used to improve your performance grade.  \n",
    "\n",
    "**You can add cells as needed, but DO NOT DELETE OR CHANGE THE TYPE OF THE CELL BELOW.**"
   ]
  },
  {
   "cell_type": "markdown",
   "metadata": {
    "deletable": false,
    "nbgrader": {
     "cell_type": "markdown",
     "checksum": "4afbb4f7b5592f34b647f05642fa3380",
     "grade": true,
     "grade_id": "cell-4f9df58185d9aa5a",
     "locked": false,
     "points": 0,
     "schema_version": 3,
     "solution": true,
     "task": false
    }
   },
   "source": [
    "YOUR ANSWER HERE"
   ]
  }
 ],
 "metadata": {
  "kernelspec": {
   "display_name": "Octave",
   "language": "octave",
   "name": "octave"
  },
  "language_info": {
   "file_extension": ".m",
   "help_links": [
    {
     "text": "GNU Octave",
     "url": "https://www.gnu.org/software/octave/support.html"
    },
    {
     "text": "Octave Kernel",
     "url": "https://github.com/Calysto/octave_kernel"
    },
    {
     "text": "MetaKernel Magics",
     "url": "https://metakernel.readthedocs.io/en/latest/source/README.html"
    }
   ],
   "mimetype": "text/x-octave",
   "name": "octave",
   "version": "4.2.2"
  },
  "toc": {
   "base_numbering": 1,
   "nav_menu": {},
   "number_sections": true,
   "sideBar": true,
   "skip_h1_title": false,
   "title_cell": "Table of Contents",
   "title_sidebar": "Contents",
   "toc_cell": true,
   "toc_position": {},
   "toc_section_display": true,
   "toc_window_display": false
  }
 },
 "nbformat": 4,
 "nbformat_minor": 4
}
