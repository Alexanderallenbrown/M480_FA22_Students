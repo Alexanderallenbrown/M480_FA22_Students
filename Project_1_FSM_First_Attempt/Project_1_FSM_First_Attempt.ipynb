{
 "cells": [
  {
   "cell_type": "markdown",
   "id": "5a995d94",
   "metadata": {
    "deletable": false,
    "editable": false,
    "nbgrader": {
     "cell_type": "markdown",
     "checksum": "6fe3933ff2322fd7c63d769597b9cdd4",
     "grade": false,
     "grade_id": "cell-7a35b692a9c0af3c",
     "locked": true,
     "schema_version": 3,
     "solution": false,
     "task": false
    },
    "toc": true
   },
   "source": [
    "<h1>Table of Contents<span class=\"tocSkip\"></span></h1>\n",
    "<div class=\"toc\"><ul class=\"toc-item\"><li><span><a href=\"#Challenge\" data-toc-modified-id=\"Challenge-1\"><span class=\"toc-item-num\">1&nbsp;&nbsp;</span>Challenge</a></span><ul class=\"toc-item\"><li><span><a href=\"#Put-your-properly-formatted-Arduino-code-in-the-Markdown-cell-below\" data-toc-modified-id=\"Put-your-properly-formatted-Arduino-code-in-the-Markdown-cell-below-1.1\"><span class=\"toc-item-num\">1.1&nbsp;&nbsp;</span>Put your properly formatted Arduino code in the Markdown cell below</a></span></li><li><span><a href=\"#Put-a-link-to-a-video-showing-your-Zumo-running-your-FSM-code-in-the-cell-below\" data-toc-modified-id=\"Put-a-link-to-a-video-showing-your-Zumo-running-your-FSM-code-in-the-cell-below-1.2\"><span class=\"toc-item-num\">1.2&nbsp;&nbsp;</span>Put a link to a video showing your Zumo running your FSM code in the cell below</a></span></li></ul></li></ul></div>"
   ]
  },
  {
   "cell_type": "markdown",
   "id": "503ceae1",
   "metadata": {},
   "source": [
    "## Challenge\n",
    "\n",
    "You've developed enough understanding to take a meaningful first step on your Zumo Project 1.  You are being asked to write a complete FSM for your Zumo to meet the specifications described in the [Project 1 Notebook](../Project_1/Project_1.ipynb#Problem-Specifics).  Because you are just testing the FSM functionality, you can **RUN THE MOTORS AT ANY ARBITRARY VOLTAGE FOR ANY ARBITRARY TIME** as we are still building capability to construct a model for your Zumo. \n",
    "\n",
    "By the start of your 4th week lab class, submit your code and a video of your Zumo's behavior below.  This work is not graded, but will help you and your instructor assess your progress, manage your time, and help prioritze your effort.  "
   ]
  },
  {
   "cell_type": "markdown",
   "id": "62a0edf0",
   "metadata": {
    "deletable": false,
    "editable": false,
    "nbgrader": {
     "cell_type": "markdown",
     "checksum": "791f0bedf6fd42bb511ee529544a3373",
     "grade": false,
     "grade_id": "cell-c72570ff8669a767",
     "locked": true,
     "schema_version": 3,
     "solution": false,
     "task": false
    }
   },
   "source": [
    "### Put your properly formatted Arduino code in the Markdown cell below"
   ]
  },
  {
   "cell_type": "markdown",
   "id": "dcad0a26",
   "metadata": {},
   "source": []
  },
  {
   "cell_type": "markdown",
   "id": "d76cb4b9",
   "metadata": {
    "deletable": false,
    "editable": false,
    "nbgrader": {
     "cell_type": "markdown",
     "checksum": "2f6040f02b24eec30b88d596eaacaff2",
     "grade": false,
     "grade_id": "cell-c72570ff8669a766",
     "locked": true,
     "schema_version": 3,
     "solution": false,
     "task": false
    }
   },
   "source": [
    "### Put a link to a video showing your Zumo running your first-attempt FSM code in the cell below"
   ]
  },
  {
   "cell_type": "markdown",
   "id": "00cb244c",
   "metadata": {},
   "source": []
  }
 ],
 "metadata": {
  "kernelspec": {
   "display_name": "Octave",
   "language": "octave",
   "name": "octave"
  },
  "language_info": {
   "file_extension": ".m",
   "help_links": [
    {
     "text": "GNU Octave",
     "url": "https://www.gnu.org/software/octave/support.html"
    },
    {
     "text": "Octave Kernel",
     "url": "https://github.com/Calysto/octave_kernel"
    },
    {
     "text": "MetaKernel Magics",
     "url": "https://metakernel.readthedocs.io/en/latest/source/README.html"
    }
   ],
   "mimetype": "text/x-octave",
   "name": "octave",
   "version": "4.2.2"
  },
  "toc": {
   "base_numbering": 1,
   "nav_menu": {},
   "number_sections": true,
   "sideBar": true,
   "skip_h1_title": false,
   "title_cell": "Table of Contents",
   "title_sidebar": "Contents",
   "toc_cell": true,
   "toc_position": {},
   "toc_section_display": true,
   "toc_window_display": false
  }
 },
 "nbformat": 4,
 "nbformat_minor": 5
}
