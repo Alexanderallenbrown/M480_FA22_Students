{
 "cells": [
  {
   "cell_type": "markdown",
   "id": "curious-importance",
   "metadata": {
    "toc": true
   },
   "source": [
    "<h1>Table of Contents<span class=\"tocSkip\"></span></h1>\n",
    "<div class=\"toc\"><ul class=\"toc-item\"><li><span><a href=\"#What-is-a-Computer-Program?\" data-toc-modified-id=\"What-is-a-Computer-Program?-1\"><span class=\"toc-item-num\">1&nbsp;&nbsp;</span>What is a Computer Program?</a></span></li><li><span><a href=\"#Common-Elements-of-a-Computer-Program\" data-toc-modified-id=\"Common-Elements-of-a-Computer-Program-2\"><span class=\"toc-item-num\">2&nbsp;&nbsp;</span>Common Elements of a Computer Program</a></span><ul class=\"toc-item\"><li><span><a href=\"#Variables\" data-toc-modified-id=\"Variables-2.1\"><span class=\"toc-item-num\">2.1&nbsp;&nbsp;</span>Variables</a></span></li><li><span><a href=\"#Assignment\" data-toc-modified-id=\"Assignment-2.2\"><span class=\"toc-item-num\">2.2&nbsp;&nbsp;</span>Assignment</a></span></li><li><span><a href=\"#Input-and-output\" data-toc-modified-id=\"Input-and-output-2.3\"><span class=\"toc-item-num\">2.3&nbsp;&nbsp;</span>Input and output</a></span></li><li><span><a href=\"#Retrieval\" data-toc-modified-id=\"Retrieval-2.4\"><span class=\"toc-item-num\">2.4&nbsp;&nbsp;</span>Retrieval</a></span></li><li><span><a href=\"#Selection\" data-toc-modified-id=\"Selection-2.5\"><span class=\"toc-item-num\">2.5&nbsp;&nbsp;</span>Selection</a></span></li><li><span><a href=\"#Repetition\" data-toc-modified-id=\"Repetition-2.6\"><span class=\"toc-item-num\">2.6&nbsp;&nbsp;</span>Repetition</a></span></li><li><span><a href=\"#Other-Operations\" data-toc-modified-id=\"Other-Operations-2.7\"><span class=\"toc-item-num\">2.7&nbsp;&nbsp;</span>Other Operations</a></span></li></ul></li><li><span><a href=\"#Planning-a-Computer-Program\" data-toc-modified-id=\"Planning-a-Computer-Program-3\"><span class=\"toc-item-num\">3&nbsp;&nbsp;</span>Planning a Computer Program</a></span></li><li><span><a href=\"#Basic-Operations-in-the-MATLAB/Octave-Programming-Language\" data-toc-modified-id=\"Basic-Operations-in-the-MATLAB/Octave-Programming-Language-4\"><span class=\"toc-item-num\">4&nbsp;&nbsp;</span>Basic Operations in the MATLAB/Octave Programming Language</a></span><ul class=\"toc-item\"><li><span><a href=\"#Assigning-Variables\" data-toc-modified-id=\"Assigning-Variables-4.1\"><span class=\"toc-item-num\">4.1&nbsp;&nbsp;</span>Assigning Variables</a></span></li><li><span><a href=\"#Assigning-and-accessing-data-in-arrays-(Matrices)\" data-toc-modified-id=\"Assigning-and-accessing-data-in-arrays-(Matrices)-4.2\"><span class=\"toc-item-num\">4.2&nbsp;&nbsp;</span>Assigning and accessing data in arrays (Matrices)</a></span></li><li><span><a href=\"#Transposing-Matrices\" data-toc-modified-id=\"Transposing-Matrices-4.3\"><span class=\"toc-item-num\">4.3&nbsp;&nbsp;</span>Transposing Matrices</a></span></li><li><span><a href=\"#Matrix-and-element-wise-operations\" data-toc-modified-id=\"Matrix-and-element-wise-operations-4.4\"><span class=\"toc-item-num\">4.4&nbsp;&nbsp;</span>Matrix and element-wise operations</a></span></li><li><span><a href=\"#Making-arrays-that-increment-by-a-constant-value\" data-toc-modified-id=\"Making-arrays-that-increment-by-a-constant-value-4.5\"><span class=\"toc-item-num\">4.5&nbsp;&nbsp;</span>Making arrays that increment by a constant value</a></span></li><li><span><a href=\"#Indexing\" data-toc-modified-id=\"Indexing-4.6\"><span class=\"toc-item-num\">4.6&nbsp;&nbsp;</span>Indexing</a></span></li><li><span><a href=\"#Indexing-using-the-colon-operator\" data-toc-modified-id=\"Indexing-using-the-colon-operator-4.7\"><span class=\"toc-item-num\">4.7&nbsp;&nbsp;</span>Indexing using the colon operator</a></span></li><li><span><a href=\"#Loading-Files\" data-toc-modified-id=\"Loading-Files-4.8\"><span class=\"toc-item-num\">4.8&nbsp;&nbsp;</span>Loading Files</a></span></li><li><span><a href=\"#Clearing-the-workspace\" data-toc-modified-id=\"Clearing-the-workspace-4.9\"><span class=\"toc-item-num\">4.9&nbsp;&nbsp;</span>Clearing the workspace</a></span></li><li><span><a href=\"#If-Statements\" data-toc-modified-id=\"If-Statements-4.10\"><span class=\"toc-item-num\">4.10&nbsp;&nbsp;</span>If-Statements</a></span></li><li><span><a href=\"#For-Loops\" data-toc-modified-id=\"For-Loops-4.11\"><span class=\"toc-item-num\">4.11&nbsp;&nbsp;</span>For-Loops</a></span></li></ul></li><li><span><a href=\"#Common-MATLAB/Octave-Functions\" data-toc-modified-id=\"Common-MATLAB/Octave-Functions-5\"><span class=\"toc-item-num\">5&nbsp;&nbsp;</span>Common MATLAB/Octave Functions</a></span><ul class=\"toc-item\"><li><span><a href=\"#help\" data-toc-modified-id=\"help-5.1\"><span class=\"toc-item-num\">5.1&nbsp;&nbsp;</span>help</a></span></li><li><span><a href=\"#ones()-and-zeros()\" data-toc-modified-id=\"ones()-and-zeros()-5.2\"><span class=\"toc-item-num\">5.2&nbsp;&nbsp;</span>ones() and zeros()</a></span></li><li><span><a href=\"#Size\" data-toc-modified-id=\"Size-5.3\"><span class=\"toc-item-num\">5.3&nbsp;&nbsp;</span>Size</a></span></li><li><span><a href=\"#Length\" data-toc-modified-id=\"Length-5.4\"><span class=\"toc-item-num\">5.4&nbsp;&nbsp;</span>Length</a></span></li><li><span><a href=\"#plot()\" data-toc-modified-id=\"plot()-5.5\"><span class=\"toc-item-num\">5.5&nbsp;&nbsp;</span>plot()</a></span></li><li><span><a href=\"#xlim()-and-ylim()-to-set-plot-limits\" data-toc-modified-id=\"xlim()-and-ylim()-to-set-plot-limits-5.6\"><span class=\"toc-item-num\">5.6&nbsp;&nbsp;</span>xlim() and ylim() to set plot limits</a></span></li><li><span><a href=\"#find()\" data-toc-modified-id=\"find()-5.7\"><span class=\"toc-item-num\">5.7&nbsp;&nbsp;</span>find()</a></span></li><li><span><a href=\"#polyfit()\" data-toc-modified-id=\"polyfit()-5.8\"><span class=\"toc-item-num\">5.8&nbsp;&nbsp;</span>polyfit()</a></span></li></ul></li><li><span><a href=\"#Common-Errors\" data-toc-modified-id=\"Common-Errors-6\"><span class=\"toc-item-num\">6&nbsp;&nbsp;</span>Common Errors</a></span><ul class=\"toc-item\"><li><span><a href=\"#error:-index-(something):-out-of-bound-1\" data-toc-modified-id=\"error:-index-(something):-out-of-bound-1-6.1\"><span class=\"toc-item-num\">6.1&nbsp;&nbsp;</span>error: index (something): out of bound 1</a></span></li><li><span><a href=\"#error:-plt2vv:-vector-lengths-must-match\" data-toc-modified-id=\"error:-plt2vv:-vector-lengths-must-match-6.2\"><span class=\"toc-item-num\">6.2&nbsp;&nbsp;</span>error: plt2vv: vector lengths must match</a></span></li><li><span><a href=\"#error:-=:-nonconformant-arguments-(op1-is-1x1,-op2-is-somethingx1)\" data-toc-modified-id=\"error:-=:-nonconformant-arguments-(op1-is-1x1,-op2-is-somethingx1)-6.3\"><span class=\"toc-item-num\">6.3&nbsp;&nbsp;</span>error: =: nonconformant arguments (op1 is 1x1, op2 is somethingx1)</a></span></li><li><span><a href=\"#error:-'something'-undefined-near-line-1-column-something\" data-toc-modified-id=\"error:-'something'-undefined-near-line-1-column-something-6.4\"><span class=\"toc-item-num\">6.4&nbsp;&nbsp;</span>error: 'something' undefined near line 1 column something</a></span></li><li><span><a href=\"#error:-subscripts-must-be-either-integers-1-to-(2^31)-1-or-logicals\" data-toc-modified-id=\"error:-subscripts-must-be-either-integers-1-to-(2^31)-1-or-logicals-6.5\"><span class=\"toc-item-num\">6.5&nbsp;&nbsp;</span>error: subscripts must be either integers 1 to (2^31)-1 or logicals</a></span></li><li><span><a href=\"#parse-error-or-syntax-error:\" data-toc-modified-id=\"parse-error-or-syntax-error:-6.6\"><span class=\"toc-item-num\">6.6&nbsp;&nbsp;</span>parse error or syntax error:</a></span></li></ul></li></ul></div>"
   ]
  },
  {
   "cell_type": "markdown",
   "id": "44fb2116",
   "metadata": {},
   "source": [
    "# What is a Computer Program?\n",
    "\n",
    "In this course you will write short computer programs to help you solve problems, simulate the behavior of a dynamic system, or plot the results of your calculations. This means it is important for you to understand what a computer program is, and how you might go about writing one.\n",
    "\n",
    "**A computer program is a set of instructions that the computer will execute *sequentially* (one after the other) to perform a task or set of tasks**. In the Jupyter Notebook environment, we write our computer programs in \"code cells\" and we *execute* (run) the program by either pressing the \"run\" button in the menu bar or hitting Shift and Enter at the same time while the cell is in focus (highlighted because you clicked on it or your cursor is inside of it). \n",
    "\n",
    "Code in Jupyter notebooks can be written in many different languages. In ES103, we will write in the [MATLAB](www.mathworks.com) language's Open-Source counterpart, [Octave](https://www.gnu.org/software/octave/index). Octave and MATLAB have several very minor differences, but they are almost identical. By learning the Octave language, you will also be learning to program in the MATLAB language. A standalone copy of MATLAB's desktop environment is available to every Lafayette student free of charge. Simply log in to www.mathworks.com using your Lafayette credentials.\n",
    "\n",
    "An example of a program you could write in Jupyter using the MATLAB/Octave language is shown below. This program calculates the volume of a cylinder based on its radius and height. Run this program to see the results."
   ]
  },
  {
   "cell_type": "code",
   "execution_count": 1,
   "id": "1b73b774",
   "metadata": {},
   "outputs": [
    {
     "name": "stdout",
     "output_type": "stream",
     "text": [
      "V =  1.5708\r\n"
     ]
    }
   ],
   "source": [
    "% user inputs a radius. try changing this value!\n",
    "r = .5;\n",
    "% user inputs a height\n",
    "H = 2;\n",
    "\n",
    "% now using the radius and height, calculate volume of the cylinder.\n",
    "V = pi*r^2*H"
   ]
  },
  {
   "cell_type": "markdown",
   "id": "9d59e561",
   "metadata": {},
   "source": [
    "Note that this program contained lines that are **comments** marked by the `% ` sign. Comments are not actual instructions to the computer. They are merely to make your program easier for other **people** to read and understand. Each line of code you write in this course should be preceded by a comment that explains what you intend the next line to do. \n",
    "\n",
    "Note as well that it used **variables defined by the user** in the first two lines. Using variables means that you can change your program's *inputs* easily without changing numeric values in multiple places in your code.\n",
    "\n",
    "Finally, note that the final line of the program did not end with a semicolon. In the MATLAB/Octave programming language, omitting a semicolon tells the computer to *display* the results of that line to the user."
   ]
  },
  {
   "cell_type": "markdown",
   "id": "2cf1080d",
   "metadata": {},
   "source": [
    "# Common Elements of a Computer Program\n",
    "\n",
    "While there are many \"custom\" or unique parts of any computer program, there are a few things that are nearly *always* required. Every line in every program you will write for ES103 will fall into one of the following categories.\n",
    "\n",
    "## Variables\n",
    "\n",
    "*Variables* in a computer program are \"keywords\" you use to hold data (often but not limited to scalar, single numbers, groups of numbers in the form of arrays/vectors/matrices, or Boolean True/False values). \n",
    "\n",
    "## Assignment\n",
    "\n",
    "The act of *Assigning* data to a variable is one of the most important parts of writing a computer program. In almost all languages, inluding MATLAB/Octave, which we will use in this course, this is done by writing the variable name on the left side of an equals sign, and the data you wish to assign on the right side of the equals sign, as shown in the snippet below. hit Shift+Enter while the cell is selected to run it. Try assigning different values to \"a.\""
   ]
  },
  {
   "cell_type": "code",
   "execution_count": 2,
   "id": "ff45188f",
   "metadata": {},
   "outputs": [
    {
     "name": "stdout",
     "output_type": "stream",
     "text": [
      "a =  2\r\n"
     ]
    }
   ],
   "source": [
    "a = 2"
   ]
  },
  {
   "cell_type": "markdown",
   "id": "4b492050",
   "metadata": {},
   "source": [
    "this simple line of code *defines* the variable \"a\" as being equivalent to the number \"2\" so that you can use the variable \"a\" in subsequent calculations without having to type \"2\" in each line. This means that you could *assign* the value of \"a\" at the top of your code, and if you change that assignment and re-run the code, every calculation that includes \"a\" will now use the new value.\n",
    "\n",
    "Note that you cannot, however, reverse the order of \"a\" and \"2\" in this program. You can switch the order in the cell above to see that it produces an error."
   ]
  },
  {
   "cell_type": "markdown",
   "id": "48ed75b1",
   "metadata": {},
   "source": [
    "## Input and output\n",
    "\n",
    "Many programs require interaction with a user. Sometimes, a program will \"ask\" the user to input certain information. Many languages have specialized functionality to prompt a user for information. Consider the following program, which asks a user to input a number. The program stores this number as a variable using *assignment*."
   ]
  },
  {
   "cell_type": "code",
   "execution_count": 3,
   "id": "ea5e2f68",
   "metadata": {},
   "outputs": [],
   "source": [
    "#my_input = input(\"pick any number\")"
   ]
  },
  {
   "cell_type": "markdown",
   "id": "1e71afd6",
   "metadata": {},
   "source": [
    "We will **NOT** commonly use the \"input\" functionality in MATLAB/Octave-- another way to achieve user interaction is to simply change your code so that any variables that are critical to your program's operation are defined at the top of the code. That way, you can simply change a line of code as a way of providing an \"input\" to the program. In this case, we could have simply had a line of code at the top that said \n",
    "\n",
    "```matlab\n",
    "my_input = 3;\n",
    "```\n",
    "\n",
    "and changed \"3\" to whatever number we wanted as appropriate. \n",
    "\n",
    "It is also important that a program is able to show \"outputs\" to the user, which represent things that the program has produced based on input from the user. In MATLAB/Octave, outputs are often either numerical values or plots. You can find out more about plotting later on in this notebook, but let's imagine that we wanted to write a program that raised any number to any power. We could write the program as follows:"
   ]
  },
  {
   "cell_type": "code",
   "execution_count": 4,
   "id": "59b2ca10",
   "metadata": {},
   "outputs": [
    {
     "name": "stdout",
     "output_type": "stream",
     "text": [
      "result =  8192\r\n"
     ]
    }
   ],
   "source": [
    "% specify inputs of a and b in the equation a^b\n",
    "num_to_raise = 2; % \"a\" in our equation\n",
    "power_to_raise = 13; % \"b\" in our equation\n",
    "\n",
    "%produce the result, which is a^b\n",
    "result = num_to_raise^power_to_raise"
   ]
  },
  {
   "cell_type": "markdown",
   "id": "98c430a0",
   "metadata": {},
   "source": [
    "note that by omitting the semicolon in the last line, I have told MATLAB/Octave to display the result to the user!"
   ]
  },
  {
   "cell_type": "markdown",
   "id": "3a06545b",
   "metadata": {},
   "source": [
    "## Retrieval\n",
    "\n",
    "Once data have been *assigned* to a variable, you can *retrieve* the data from that variable to display it to the console or to assign parts of the data to another variable. Let's imagine that you *assigned* an array of numbers to a variable. you could then *retrieve* one or more numbers out of that array. See the example below."
   ]
  },
  {
   "cell_type": "code",
   "execution_count": 5,
   "id": "be691671",
   "metadata": {},
   "outputs": [
    {
     "name": "stdout",
     "output_type": "stream",
     "text": [
      "ans =  20\r\n"
     ]
    }
   ],
   "source": [
    "% assign data to a variable\n",
    "my_var = [10 20 30]; %an array of 3 numbers\n",
    "\n",
    "% retrieve the 2nd number in the array and display it\n",
    "my_var(2)"
   ]
  },
  {
   "cell_type": "markdown",
   "id": "ffe89ffa",
   "metadata": {},
   "source": [
    "## Selection\n",
    "\n",
    "Sometimes, a program will need to do one thing under certain conditions, and another thing entirely if other conditions are met. This is called \"selection.\" One basic mechanism of selection in the MATLAB/Octave language is the \"if\" statement, which is explained [here](#If-Statements).\n",
    "\n",
    "\n",
    "## Repetition\n",
    "\n",
    "Often, the tasks that a program will need to perform have to be repeated. There are structures called \"loops\" in nearly all programming languages that allow small blocks of code to be run repeatedly. In ES103, the primary structure we'll use for repetition is the [for-loop](#For-Loops), but [while loops](https://www.mathworks.com/help/matlab/ref/while.html) are also used.\n",
    "\n",
    "## Other Operations\n",
    "\n",
    "Other than assignment, Input/Output, Selection, and Repetition, computer programs also perform *operations* on variables in the program. These could include multiplication, division, raising to a power, or many other types of manipulation. All lines of code are technically \"operations,\" but if those operations do not fall into one of the above categories, we will put them in this \"bin.\""
   ]
  },
  {
   "cell_type": "markdown",
   "id": "6e60c909",
   "metadata": {},
   "source": [
    "# Planning a Computer Program\n",
    "\n",
    "You can think of the very simple programs you will write in this course as a numbered list of steps. The computer will do **exactly** what you tell it to; no more, and no less.\n",
    "\n",
    "The most important thing that you need to decide before you write any piece of code is what the code's **inputs** and **outputs** should be. If the code is a computer model of a dynamic system, its outputs will often be something like plots of the system's behavior as a function of time. Its inputs will often be physical properties of the system (think mass, capacitance, spring constant, etc) and perhaps information about how *long* the simulation should run for.\n",
    "\n",
    "After you are confident that you know what should go *into* and come *out of* your program, you will need to break up the task or tasks that relate input and output into discrete steps. You can use a **flow chart** to help you break down the tasks your program should perform into steps that can be turned into a line or a few lines of code. This will help you **plan** your program and avoid a situation where you're not sure what line of code you should be writing next!\n",
    "\n",
    "**Most issues students have with programming are unrelated to issues with syntax (how to actually write the code) and are instead issues students have with *planning*. You must know what you want the program to do in each step before writing your code.**\n",
    "\n",
    "You can find some examples of flow charts that describe computer programs [at this link](https://www.programiz.com/article/flowchart-programming). These should help you get started with thinking about how a program can be represented visually as a series of steps. A basic tutorial on how to use www.diagrams.net to create flow charts is [here](https://www.diagrams.net/doc/getting-started-basic-flow-chart). you can use the snipping tool to turn in a picture of your program's flow chart as part of your assignments in this course!"
   ]
  },
  {
   "cell_type": "markdown",
   "id": "congressional-copying",
   "metadata": {
    "deletable": false,
    "editable": false,
    "nbgrader": {
     "cell_type": "markdown",
     "checksum": "cd7fbad9f97e44049afb7681c17108ba",
     "grade": false,
     "grade_id": "cell-6539d3bb42d40acf",
     "locked": true,
     "schema_version": 3,
     "solution": false
    },
    "resourcetopic": "Model Evaluation"
   },
   "source": [
    "# Basic Operations in the MATLAB/Octave Programming Language"
   ]
  },
  {
   "cell_type": "markdown",
   "id": "premium-gibraltar",
   "metadata": {
    "deletable": false,
    "editable": false,
    "nbgrader": {
     "cell_type": "markdown",
     "checksum": "bfea5b995612b8b89074a4c415c49585",
     "grade": false,
     "grade_id": "cell-84fd33961a7f81bc",
     "locked": true,
     "schema_version": 3,
     "solution": false
    },
    "resourcetopic": "Model Evaluation"
   },
   "source": [
    "Octave, which is the open-source version of MATLAB, can be used as a simple calculator. Operations are performed one line at at time. See the \"cell\" below, which defines two variables, adds their values on one line, and then multiplies them on the next. More information about basic arithmetic operations can be found at [this link](https://www.mathworks.com/help/matlab/arithmetic-operators.html). To \"run\" or execute the code in this cell, select it, and then hit Shift+Enter (Hold Shift, then hold Enter as well)."
   ]
  },
  {
   "cell_type": "markdown",
   "id": "amended-nancy",
   "metadata": {},
   "source": [
    "## Assigning Variables\n",
    "\n",
    "Variables can have user-defined names like \"a\" or \"orange.\" They are commonly used to hold numerical information in the form of single numbers or in arrays/matrices for use in later operations. **variables must be defined** before they can be used in a calculation. Code is read \"top to bottom\" within a cell, but once a variable is defined in Jupyter, it is not \"cleared\" unless the kernel is restarted or the \"clear all\" command is run (usually at the top of a cell). "
   ]
  },
  {
   "cell_type": "code",
   "execution_count": 6,
   "id": "selected-identifier",
   "metadata": {
    "deletable": false,
    "editable": false,
    "nbgrader": {
     "cell_type": "code",
     "checksum": "6ba68bfedf8a2b94e4c93afef83c286c",
     "grade": false,
     "grade_id": "cell-431a8f4f0a399257",
     "locked": true,
     "schema_version": 3,
     "solution": false
    },
    "resourcetopic": "Model Evaluation"
   },
   "outputs": [
    {
     "name": "stdout",
     "output_type": "stream",
     "text": [
      "c =  5.0200\n",
      "d =  6.0400\n"
     ]
    }
   ],
   "source": [
    "% a comment, which is not executed, is noted by a %. In Jupyter, make sure this % is followed by a space.\n",
    "% use comments to tell the reader what we are doing. First, we \"define\" a variable a to be the number 2.\n",
    "a = 2; % the semicolon at the end of the line means \"don't show me this when you execute the code.\"\n",
    "% now, we will define a second variable. Variable names should be descriptive when possible.\n",
    "b = 3.02;\n",
    "% now we will add them together. \n",
    "c = a+b % note there is no semicolon, which means the code will \"Show\" us the result\n",
    "d = a*b %same here. When you run this cell, think about what you expect to see!"
   ]
  },
  {
   "cell_type": "markdown",
   "id": "fifteen-banana",
   "metadata": {
    "deletable": false,
    "editable": false,
    "nbgrader": {
     "cell_type": "markdown",
     "checksum": "6db93de78202a3fad9779b706c37cca4",
     "grade": false,
     "grade_id": "cell-a722c12f652956a3",
     "locked": true,
     "schema_version": 3,
     "solution": false
    },
    "resourcetopic": "Model Evaluation"
   },
   "source": [
    "\n",
    "## Assigning and accessing data in arrays (Matrices)\n",
    "\n",
    "Often we need \"arrays\" or lists of numbers in order to plot data. MATLAB can also perform arithmetic on these, as shown below.\n",
    "\n",
    "More detailed information about accessing and manipulating arrays in MATLAB can be found [here](https://www.mathworks.com/help/matlab/math/array-indexing.html) and [here](https://www.mathworks.com/help/matlab/matlab_prog/array-vs-matrix-operations.html).\n",
    "\n",
    "If you have trouble understanding what is happening in the cell below, I suggest you visit both of these links."
   ]
  },
  {
   "cell_type": "code",
   "execution_count": 7,
   "id": "express-scope",
   "metadata": {
    "deletable": false,
    "editable": false,
    "nbgrader": {
     "cell_type": "code",
     "checksum": "7b329f349f45a9d4267dfdb1d794c007",
     "grade": false,
     "grade_id": "cell-60e305a4477e84f2",
     "locked": true,
     "schema_version": 3,
     "solution": false
    },
    "resourcetopic": "Model Evaluation"
   },
   "outputs": [
    {
     "name": "stdout",
     "output_type": "stream",
     "text": [
      "data =\n",
      "\n",
      "    1   10\n",
      "    2   11\n",
      "    3   10\n",
      "    4    9\n",
      "    5    8\n",
      "\n",
      "data =\n",
      "\n",
      "    0   10\n",
      "    1   11\n",
      "    2   10\n",
      "    3    9\n",
      "    4    8\n",
      "\n",
      "data =\n",
      "\n",
      "      0   1000\n",
      "      1   1100\n",
      "      2   1000\n",
      "      3    900\n",
      "      4    800\n",
      "\n"
     ]
    }
   ],
   "source": [
    "% let's create a matrix (an array) of numbers. One column will represent time, and the other will represent \"f,\" which we have computed as some function of time.\n",
    "% arrays are defined by row. a semicolon inside the definition of the array, which begins and ends with [], means \"create a new row\"\n",
    "data = [ 1  10; 2 11; 3 10; 4 9; 5 8] %no semicolon at the end... we should see this one when we execute.\n",
    "\n",
    "% let's subtract 1 second from all of the times in 'data.' We can access the \"times\" in our data, or the first column only, as follows:\n",
    "data(:,1) = data(:,1)-1 %notice that we have UPDATED all values in the first column of the array. the colon : in data(:,1) represents \"all rows\" in the \"first column\"\n",
    "\n",
    "% Now, let's say we need to convert the units of column 2 from meters to centimeters. We could do this by multiplying all elements in the second column by 100.\n",
    "data(:,2) = data(:,2)*100\n",
    "\n",
    "%when you run this cell, you will see \"Data\" printed three times, with the updates we made as we made them."
   ]
  },
  {
   "cell_type": "markdown",
   "id": "parental-lemon",
   "metadata": {},
   "source": [
    "## Transposing Matrices\n",
    "\n",
    "Sometimes, it is necessary to transpose a matrix. This can be done using the apostrophe. See the example below:"
   ]
  },
  {
   "cell_type": "code",
   "execution_count": 8,
   "id": "casual-plane",
   "metadata": {},
   "outputs": [
    {
     "name": "stdout",
     "output_type": "stream",
     "text": [
      "a =\n",
      "\n",
      "   1   2   3\n",
      "\n",
      "b =\n",
      "\n",
      "   1\n",
      "   2\n",
      "   3\n",
      "\n"
     ]
    }
   ],
   "source": [
    "%define a matrix named a. It has 1 row, 3 columns\n",
    "a = [1 2 3]\n",
    "%define a matrix b as the transpose of a. It will have 3 rows, one column.\n",
    "b = a'"
   ]
  },
  {
   "cell_type": "markdown",
   "id": "expanded-woman",
   "metadata": {},
   "source": [
    "## Matrix and element-wise operations\n",
    "\n",
    "By default, MATLAB/Octave perform matrix operations between two variables. An example is [matrix multiplication](https://www.mathsisfun.com/algebra/matrix-multiplying.html), where the code:\n",
    "\n",
    "``` \n",
    "a*b\n",
    "```\n",
    "will default to performing matrix multiplication between the two variables. Often, however, we want to multiply *every element in a* by *the corresponding element* in b. For this, we need to use the `.*` operator. Putting a period before an operation like `*`,`^`, or `/` spefifies that you want to do element-wise, rather than matrix, operations between two variables. See the example below."
   ]
  },
  {
   "cell_type": "code",
   "execution_count": 9,
   "id": "shaped-fisher",
   "metadata": {},
   "outputs": [
    {
     "name": "stdout",
     "output_type": "stream",
     "text": [
      "a =\n",
      "\n",
      "   4   5\n",
      "   6   7\n",
      "\n",
      "b =\n",
      "\n",
      "   10   11\n",
      "   12   13\n",
      "\n",
      "ans =\n",
      "\n",
      "   100   109\n",
      "   144   157\n",
      "\n",
      "ans =\n",
      "\n",
      "   40   55\n",
      "   72   91\n",
      "\n",
      "c =\n",
      "\n",
      "   1   2   3   4\n",
      "\n",
      "t =\n",
      "\n",
      "   0.00000   0.10000   0.20000   0.30000\n",
      "\n",
      "ans =\n",
      "\n",
      "   0.00000   0.20000   0.60000   1.20000\n",
      "\n",
      "error: operator *: nonconformant arguments (op1 is 1x4, op2 is 1x4)\n"
     ]
    }
   ],
   "source": [
    "a = [4 5; 6 7]\n",
    "b = [10 11; 12 13]\n",
    "\n",
    "%the following performs matrix multiplication\n",
    "a*b\n",
    "\n",
    "%the following performs element-wise multiplication\n",
    "a.*b\n",
    "\n",
    "%now let's look at two vectors, t and c.\n",
    "c = [1 2 3 4]\n",
    "t = [0 0.1 0.2 0.3]\n",
    "\n",
    "%to multiply each element in c by each element in t, we need to use element-wise multiplication.\n",
    "c.*t\n",
    "\n",
    "%if we try to use matrix multiplication, Octave will throw an error.\n",
    "c*t"
   ]
  },
  {
   "cell_type": "markdown",
   "id": "powerful-cocktail",
   "metadata": {},
   "source": [
    "The error Octave throws at the end indicates that we're trying to perform an operation between two variables of *incompatible size*. Recall that for matrix multiplication, the inner dimensions must agree."
   ]
  },
  {
   "cell_type": "markdown",
   "id": "flush-south",
   "metadata": {},
   "source": [
    "## Making arrays that increment by a constant value\n",
    "\n",
    "Often, when creating arrays for things like time, it is useful to create arrays that \"count up\" by a certain amount. The colon : operator is the way this is done in MATLAB. See the example below."
   ]
  },
  {
   "cell_type": "code",
   "execution_count": 10,
   "id": "warming-organizer",
   "metadata": {},
   "outputs": [
    {
     "name": "stdout",
     "output_type": "stream",
     "text": [
      "a =\r\n",
      "\r\n",
      " Columns 1 through 7:\r\n",
      "\r\n",
      "    0.00000    0.10000    0.20000    0.30000    0.40000    0.50000    0.60000\r\n",
      "\r\n",
      " Columns 8 through 11:\r\n",
      "\r\n",
      "    0.70000    0.80000    0.90000    1.00000\r\n",
      "\r\n"
     ]
    }
   ],
   "source": [
    "%create a matrix a that starts at 0, counts up by 0.1, and has a maximum value of 1.\n",
    "a = 0:0.1:1"
   ]
  },
  {
   "cell_type": "markdown",
   "id": "lined-complaint",
   "metadata": {},
   "source": [
    "## Indexing\n",
    "\n",
    "When a matrix is defined in MATLAB/Octave, you can set or access parts of that matrix by *indexing* it. See the example below."
   ]
  },
  {
   "cell_type": "code",
   "execution_count": 11,
   "id": "informative-custody",
   "metadata": {},
   "outputs": [
    {
     "name": "stdout",
     "output_type": "stream",
     "text": [
      "a =\n",
      "\n",
      "   10   11\n",
      "   12   13\n",
      "   14   15\n",
      "\n",
      "my_value =  12\n",
      "a =\n",
      "\n",
      "    10    11\n",
      "   100    13\n",
      "    14    15\n",
      "\n"
     ]
    }
   ],
   "source": [
    "%given this matrix a\n",
    "a = [10 11; 12 13; 14 15]\n",
    "%I can pull out the value in the 2nd row, 1st column by doing:\n",
    "my_value = a(2,1)\n",
    "%I can also SET a value in the matrix the same way. Note that the value in the 2nd row, 1st column changes from 12 to 100\n",
    "a(2,1) = 100"
   ]
  },
  {
   "cell_type": "markdown",
   "id": "equal-allergy",
   "metadata": {},
   "source": [
    "## Indexing using the colon operator\n",
    "\n",
    "An entire row or column of a matrix can be set or retrieved using the colon. See the example below:"
   ]
  },
  {
   "cell_type": "code",
   "execution_count": 12,
   "id": "ahead-conspiracy",
   "metadata": {},
   "outputs": [
    {
     "name": "stdout",
     "output_type": "stream",
     "text": [
      "a =\n",
      "\n",
      "   10   11\n",
      "   12   13\n",
      "   14   15\n",
      "\n",
      "my_row =\n",
      "\n",
      "   12   13\n",
      "\n",
      "my_column =\n",
      "\n",
      "   11\n",
      "   13\n",
      "   15\n",
      "\n",
      "a =\n",
      "\n",
      "   10   11\n",
      "   12   13\n",
      "    1    2\n",
      "\n"
     ]
    }
   ],
   "source": [
    "%given this matrix a\n",
    "a = [10 11; 12 13; 14 15]\n",
    "%I can pull out the entire second row by doing:\n",
    "my_row = a(2,:)\n",
    "%Or, I could pull out the entire second column by doing:\n",
    "my_column = a(:,2)\n",
    "%or, I could set the entire third row in a to something new, like so:\n",
    "a(3,:) = [1 2]"
   ]
  },
  {
   "cell_type": "markdown",
   "id": "august-there",
   "metadata": {},
   "source": [
    "## Loading Files\n",
    "\n",
    "If a text file is in the same directory as your notebook, it can be loaded as a variable in Octave/MATLAB by using the load() command. See the example below, where we load the text file 'data.txt,' containing the following text:\n",
    "\n",
    "```\n",
    "1, 2\n",
    "3, 4\n",
    "```\n",
    "Commas, tabs, and whitespace can all be used to separate numbers in a data file.\n"
   ]
  },
  {
   "cell_type": "code",
   "execution_count": 13,
   "id": "cleared-duncan",
   "metadata": {},
   "outputs": [
    {
     "name": "stdout",
     "output_type": "stream",
     "text": [
      "error: load: unable to find file data.txt\r\n"
     ]
    }
   ],
   "source": [
    "data = load('data.txt')"
   ]
  },
  {
   "cell_type": "markdown",
   "id": "norman-frontier",
   "metadata": {},
   "source": [
    "## Clearing the workspace\n",
    "\n",
    "While cells are run top to bottom, there's nothing stopping you from changing their contents, defining new variables, and overwriting old ones. Variables you define stay in memory until they are \"cleared\" or overwritten. You can clear all variables and \"start fresh\" by putting the following at the top of a cell:\n",
    "\n",
    "```\n",
    "clear all\n",
    "```\n",
    "\n",
    "to see what variables are currently defined, you can use the \"who\" function. Note that in the example below, \"who\" returns variables before \"clear all\" is run, but not after, since they have been cleared."
   ]
  },
  {
   "cell_type": "code",
   "execution_count": 14,
   "id": "neural-request",
   "metadata": {},
   "outputs": [
    {
     "name": "stdout",
     "output_type": "stream",
     "text": [
      "Variables in the current scope:\n",
      "\n",
      "H               b               jj              my_var          r\n",
      "V               c               my_column       num_to_raise    result\n",
      "a               d               my_row          packs           t\n",
      "ans             data            my_value        power_to_raise\n",
      "\n",
      "my_vars = \n",
      "{\n",
      "  [1,1] = H\n",
      "  [2,1] = V\n",
      "  [3,1] = a\n",
      "  [4,1] = ans\n",
      "  [5,1] = b\n",
      "  [6,1] = c\n",
      "  [7,1] = d\n",
      "  [8,1] = data\n",
      "  [9,1] = jj\n",
      "  [10,1] = my_column\n",
      "  [11,1] = my_row\n",
      "  [12,1] = my_value\n",
      "  [13,1] = my_var\n",
      "  [14,1] = num_to_raise\n",
      "  [15,1] = packs\n",
      "  [16,1] = power_to_raise\n",
      "  [17,1] = r\n",
      "  [18,1] = result\n",
      "  [19,1] = t\n",
      "}\n",
      "my_vars = {}(0x0)\n"
     ]
    }
   ],
   "source": [
    "who\n",
    "my_vars = who\n",
    "clear all\n",
    "who\n",
    "my_vars = who\n"
   ]
  },
  {
   "cell_type": "markdown",
   "id": "4ec39d51",
   "metadata": {},
   "source": [
    "## If-Statements\n",
    "\n",
    "In MATLAB/Octave, an \"if\" statement can be used to direct your program to do one thing if certain conditions are met, and another if those conditions are not met. For example, let's say you wrote a code to determine if a number x was divisible by 3. Perhaps this code should return \"x/3\" if the number is divisible by 3, and show the user a message if it is not. For this example, we will also employ the \"modulo\" operator `mod()`, which returns the remainder of one number divided by another. For example, the code `mod(5,3)` would return \"2\" since 5/3 has a remainder of \"2.\"\n",
    "\n",
    "The format for an \"if\" statement is \n",
    "\n",
    "```matlab\n",
    "\n",
    "if( condition 1 )\n",
    "    operations to perform if condition 1 is true\n",
    "elseif (condition 2)\n",
    "    operations to perform if condition 2 is true\n",
    "else\n",
    "    operations to perform if none of the \"if\" or \"else if\" conditions are true \n",
    "end\n",
    "    \n",
    "```"
   ]
  },
  {
   "cell_type": "code",
   "execution_count": 15,
   "id": "11a50dc9",
   "metadata": {},
   "outputs": [
    {
     "name": "stdout",
     "output_type": "stream",
     "text": [
      "result =  1\r\n"
     ]
    }
   ],
   "source": [
    "x = 3;\n",
    "\n",
    "if(mod(x,3) == 0) %note the use of the == rather than =. The = operator in MATLAB is for ASSIGNMENT, while == checks equivalence.\n",
    "    result = x/3\n",
    "else\n",
    "    disp('number is not divisible by 3!!')\n",
    "end\n",
    "    "
   ]
  },
  {
   "cell_type": "markdown",
   "id": "indonesian-tanzania",
   "metadata": {},
   "source": [
    "## For-Loops"
   ]
  },
  {
   "cell_type": "markdown",
   "id": "defensive-chile",
   "metadata": {
    "deletable": false,
    "editable": false,
    "nbgrader": {
     "cell_type": "markdown",
     "checksum": "7976c410f2f395b1cb00cfe55a6d3eae",
     "grade": false,
     "grade_id": "cell-fca8a38e58cf16b6",
     "locked": true,
     "schema_version": 3,
     "solution": false
    },
    "resourcetopic": "Model Construction"
   },
   "source": [
    "In MATLAB/Octave, a \"for loop\" can be used to perform repetitive calculations easily. The syntax looks like this:\n",
    "\n",
    "```matlab\n",
    "for k=1:10\n",
    "    (operations to be repeated 10 times go here)\n",
    "end\n",
    "```\n",
    "\n",
    "the index `k` begins at 1. Then, whatever operations you need to perform go between the \"for\" and the \"end\" lines. Once the loop hits the \"end\" line, it goes back to the top of the \"for\" loop and increases `k` by 1. It does this until `k=10`. Then, the loop completes for the last time. Let's look at an example, in which we use a for-loop to create an array where each entry is equal to 2*k.\n",
    "\n",
    "The output `a(k)` in the code below is unsuppressed, so you can see how the code \"builds\" the array `a` one column at a time. If you suppress that line using a semicolon, you will not have to see all of the \"intermediate\" actions of the code."
   ]
  },
  {
   "cell_type": "code",
   "execution_count": 16,
   "id": "existing-creature",
   "metadata": {
    "resourcetopic": "Model Construction"
   },
   "outputs": [
    {
     "name": "stdout",
     "output_type": "stream",
     "text": [
      "a =\n",
      "\n",
      "   0   0   0   0   0\n",
      "\n",
      "k =  1\n",
      "a =\n",
      "\n",
      "   2   0   0   0   0\n",
      "\n",
      "k =  2\n",
      "a =\n",
      "\n",
      "   2   4   0   0   0\n",
      "\n",
      "k =  3\n",
      "a =\n",
      "\n",
      "   2   4   6   0   0\n",
      "\n",
      "k =  4\n",
      "a =\n",
      "\n",
      "   2   4   6   8   0\n",
      "\n",
      "k =  5\n",
      "a =\n",
      "\n",
      "    2    4    6    8   10\n",
      "\n"
     ]
    }
   ],
   "source": [
    "% initialize the array\n",
    "a = zeros(1,5)% this creates an array of all zeros, with dimensions 1 row by 1 columns.\n",
    "\n",
    "for k = 1:length(a) % notice length(a) here. This automatically sees how many times the loop should run (5 in this case)\n",
    "    %print k so we can see what it is\n",
    "    k\n",
    "    %fill in this entry in a\n",
    "    a(k) = 2*k\n",
    "end"
   ]
  },
  {
   "cell_type": "markdown",
   "id": "contrary-saturday",
   "metadata": {},
   "source": [
    "# Common MATLAB/Octave Functions\n"
   ]
  },
  {
   "cell_type": "markdown",
   "id": "relevant-villa",
   "metadata": {},
   "source": [
    "## help\n",
    "\n",
    "The \"help\" function can be used to find information about any MATLAB/Octave function. See the example below."
   ]
  },
  {
   "cell_type": "code",
   "execution_count": 17,
   "id": "secret-butler",
   "metadata": {},
   "outputs": [
    {
     "name": "stdout",
     "output_type": "stream",
     "text": [
      "'magic' is a function from the file /usr/share/octave/4.2.2/m/special-matrix/magic.m\r\n",
      "\r\n",
      " -- magic (N)\r\n",
      "\r\n",
      "     Create an N-by-N magic square.\r\n",
      "\r\n",
      "     A magic square is an arrangement of the integers '1:n^2' such that\r\n",
      "     the row sums, column sums, and diagonal sums are all equal to the\r\n",
      "     same value.\r\n",
      "\r\n",
      "     Note: N must be a scalar greater than or equal to 3.  If you supply\r\n",
      "     N less than 3, magic returns either a nonmagic square, or else the\r\n",
      "     degenerate magic squares 1 and [].\r\n",
      "\r\n",
      "Additional help for built-in functions and operators is\r\n",
      "available in the online version of the manual.  Use the command\r\n",
      "'doc <topic>' to search the manual index.\r\n",
      "\r\n",
      "Help and information about Octave is also available on the WWW\r\n",
      "at http://www.octave.org and via the help@octave.org\r\n",
      "mailing list.\r\n"
     ]
    }
   ],
   "source": [
    "help magic"
   ]
  },
  {
   "cell_type": "markdown",
   "id": "brave-klein",
   "metadata": {},
   "source": [
    "## ones() and zeros()\n",
    "\n",
    "Often, it is useful to create arrays of a particular size that are filled with a particular number. The ones() and zeros() functions are easy ways to do this. zeros() produces a matrix filled with all zeros, and ones() produces a matrix filled with all ones (this can be used to fill a matrix with any constant number).\n",
    "\n",
    "See the example below. Both take two arguments. The first one is the number of rows you want, and the second is the number of columns."
   ]
  },
  {
   "cell_type": "code",
   "execution_count": 18,
   "id": "demanding-cursor",
   "metadata": {},
   "outputs": [
    {
     "name": "stdout",
     "output_type": "stream",
     "text": [
      "a =\n",
      "\n",
      "   0   0   0   0   0   0   0   0   0   0\n",
      "\n",
      "b =\n",
      "\n",
      "   1   1   1   1   1\n",
      "   1   1   1   1   1\n",
      "\n",
      "c =\n",
      "\n",
      "    3.5000    3.5000    3.5000    3.5000    3.5000\n",
      "\n"
     ]
    }
   ],
   "source": [
    "%create a 1x10 matrix of all zeros.\n",
    "a = zeros(1,10)\n",
    "%create a 2x5 matrix of all ones\n",
    "b = ones(2,5)\n",
    "%create a 1x5 matrix of all 3.5\n",
    "c = 3.5*ones(1,5)"
   ]
  },
  {
   "cell_type": "markdown",
   "id": "balanced-release",
   "metadata": {},
   "source": [
    "## Size\n",
    "\n",
    "The size() function returns the number of rows and the number of columns in a matrix, in that order. See the example below."
   ]
  },
  {
   "cell_type": "code",
   "execution_count": 19,
   "id": "inappropriate-heritage",
   "metadata": {},
   "outputs": [
    {
     "name": "stdout",
     "output_type": "stream",
     "text": [
      "ans =\n",
      "\n",
      "    1   51\n",
      "\n",
      "1 row, 51 columns\n",
      "ans =\n",
      "\n",
      "    1   26\n",
      "\n",
      "1 row, 26 columns\n",
      "ans =\n",
      "\n",
      "    1   20\n",
      "\n",
      "1 row, 20 columns\n"
     ]
    }
   ],
   "source": [
    "array1 = 0:0.2:10; % here are 3 different arrays each with their own size of values\n",
    "array2 = 0:0.4:10; \n",
    "array3 = [ 1 2 3 4 5 6 7 8 9 10 11 12 13 14 15 16 17 18 19 20];\n",
    "\n",
    "% to easily find the size of these arrays you can use size(name of array)\n",
    "% the answer you obtain tells you what your array is like and it comes in \n",
    "% the format of rows then columns`\n",
    "\n",
    "size(array1) \n",
    "display('1 row, 51 columns')\n",
    "\n",
    "size(array2) \n",
    "display('1 row, 26 columns')\n",
    "\n",
    "size(array3) \n",
    "display('1 row, 20 columns')\n",
    "\n",
    "% this function is helpful when trying to assess vector length errors"
   ]
  },
  {
   "cell_type": "markdown",
   "id": "spectacular-frederick",
   "metadata": {},
   "source": [
    "## Length\n",
    "\n",
    "The length() function returns the largest dimension (rows or columns) in a vector. See the example below."
   ]
  },
  {
   "cell_type": "code",
   "execution_count": 20,
   "id": "functional-philip",
   "metadata": {},
   "outputs": [
    {
     "name": "stdout",
     "output_type": "stream",
     "text": [
      "a =\n",
      "\n",
      "   1   2\n",
      "   3   4\n",
      "   5   6\n",
      "\n",
      "ans =  3\n"
     ]
    }
   ],
   "source": [
    "a = [1 2; 3 4; 5 6]\n",
    "length(a)"
   ]
  },
  {
   "cell_type": "markdown",
   "id": "armed-recommendation",
   "metadata": {},
   "source": [
    "In this case, since \"a\" had 3 rows and 2 columns, it returns \"3\" as the length."
   ]
  },
  {
   "cell_type": "markdown",
   "id": "comparable-specification",
   "metadata": {},
   "source": [
    "## plot()"
   ]
  },
  {
   "cell_type": "markdown",
   "id": "absent-ideal",
   "metadata": {},
   "source": [
    "**by: Liam T**\n",
    "\n",
    "The plot() function allows us to create figures of our data that we find in an xy plane.\n",
    "\n",
    "You want to use the format:\n",
    "```matlab\n",
    "figure\n",
    "plot(x-axis array,y-axis array,'type of line')\n",
    "xlabel('name of x axis data (w/units)') \n",
    "ylabel('name of y axis data (w/units)')\n",
    "legend('name of the line')\n",
    "```\n",
    "\n",
    "There are many line styles you can use (see \"help plot\" for more).\n",
    "\n",
    "They all follow the format: color,point type, line type. \n",
    "\n",
    "Some examples are given below:\n",
    "\n",
    "'bo-' gives you a blue(b) line(-) with circle points(o)\n",
    "\n",
    "'mx--' gives you a magenta(m) dotted line(--) with x points(x)\n",
    "\n",
    "'k.-' gives you a black(k) line(-) with . points(.)\n",
    "\n",
    "See the code cell below for some examples"
   ]
  },
  {
   "cell_type": "code",
   "execution_count": 21,
   "id": "favorite-citation",
   "metadata": {},
   "outputs": [
    {
     "data": {
      "image/png": "[encoded data removed]",
      "text/plain": [
       "<IPython.core.display.Image object>"
      ]
     },
     "metadata": {},
     "output_type": "display_data"
    },
    {
     "data": {
      "image/png": "[encoded data removed]",
      "text/plain": [
       "<IPython.core.display.Image object>"
      ]
     },
     "metadata": {},
     "output_type": "display_data"
    }
   ],
   "source": [
    "t = 0:2:50; % array for time, starting at 0, counting by 2s up to 50\n",
    "m = 1/4; % slope of the line\n",
    "b = 1; % y-intercept\n",
    "y = (m * t) + b; % equation created for graphing example\n",
    "\n",
    "figure\n",
    "plot(t,y,'bo-') % things that are plotted against one another must be the same size\n",
    "xlabel('time') % name of the first component in plot\n",
    "ylabel('position (y)') % name of the second component in plot\n",
    "legend('example') % name of the line that is being graphed\n",
    "\n",
    "% its also possible to graph more than one line on a certain graph\n",
    "\n",
    "m2 = 1/2; % new slope\n",
    "y2 = (m2 * t) + b; % new equation with new slope\n",
    "\n",
    "% you can create a whole new graph by creating another 'figure'\n",
    "\n",
    "figure\n",
    "plot(t,y,'bo-',t,y2,'mx--') % if you wanted to add a third line you would follow this pattern\n",
    "xlabel('time (s)')\n",
    "ylabel('position (m)')\n",
    "legend('example 1','example 2') % because there are 2 lines being graphed you now need 2 names"
   ]
  },
  {
   "cell_type": "markdown",
   "id": "f987dbfc",
   "metadata": {},
   "source": [
    "## xlim() and ylim() to set plot limits\n",
    "\n",
    "You can set the limits of a plot using xlim() and ylim() functions. An example is below."
   ]
  },
  {
   "cell_type": "code",
   "execution_count": 22,
   "id": "6c4f410a",
   "metadata": {},
   "outputs": [
    {
     "data": {
      "image/png": "[encoded data removed]",
      "text/plain": [
       "<IPython.core.display.Image object>"
      ]
     },
     "metadata": {},
     "output_type": "display_data"
    }
   ],
   "source": [
    "figure\n",
    "plot(t,y,'bo-',t,y2,'mx--') % if you wanted to add a third line you would follow this pattern\n",
    "xlabel('time (s)')\n",
    "ylabel('position (m)')\n",
    "legend('example 1','example 2') % because there are 2 lines being graphed you now need 2 names\n",
    "\n",
    "%now cut off the time so I only look at the first 20 seconds\n",
    "xlim([0 20])\n",
    "%now crop in the y so I only look at y values from 2 to 10\n",
    "ylim([2 10])"
   ]
  },
  {
   "cell_type": "markdown",
   "id": "vocational-uzbekistan",
   "metadata": {},
   "source": [
    "## find()\n",
    "\n",
    "The `find()` function allows to to locate an element in an array that satisfies a condition. Use \"help find\" to see all of the possible inputs to this function and how to use them. As a quick example, suppose you have the function:\n",
    "\n",
    "$$y = 1-e^{-t}$$\n",
    "\n",
    "and you'd like to know at what time this function is first greater than or equal to 0.632. This could be accomplished using the following code:"
   ]
  },
  {
   "cell_type": "code",
   "execution_count": 23,
   "id": "informed-approach",
   "metadata": {},
   "outputs": [
    {
     "name": "stdout",
     "output_type": "stream",
     "text": [
      "my_index =  101\n",
      "my_y =  0.63212\n",
      "my_time =  1\n"
     ]
    },
    {
     "data": {
      "image/png": "[encoded data removed]",
      "text/plain": [
       "<IPython.core.display.Image object>"
      ]
     },
     "metadata": {},
     "output_type": "display_data"
    }
   ],
   "source": [
    "clear all\n",
    "%set up variable to hold time values\n",
    "t = 0:.01:5;\n",
    "%implement my equation:\n",
    "y = 1 - exp(-t);\n",
    "%use find to locate which VALUE in my array y is greater than .632.\n",
    "my_index = find(y>0.632,1,'first') %tells the find() command to find one index in the array y\n",
    "%(the first one) for which y is greater than 0.632.\n",
    "%this index will be an integer between 1 and the length of y, allowing me to use it to \"index\" the variable\n",
    "%and find the values I'm interested in\n",
    "\n",
    "%now, to use this, I would like to see which y value that is, and at what time it occurs:\n",
    "my_y = y(my_index)\n",
    "my_time = t(my_index)\n",
    "\n",
    "%just to make this visual, let's plot y vs. t, and also plot our \"found\" value on top.\n",
    "figure\n",
    "plot(t,y,'k',my_time,my_y,'ro','MarkerSize',15)\n",
    "xlabel('Time (s)')\n",
    "ylabel('Y (quarks)')\n",
    "legend('y','first point where y greater than 0.632')"
   ]
  },
  {
   "cell_type": "markdown",
   "id": "dedicated-caution",
   "metadata": {
    "deletable": false,
    "editable": false,
    "nbgrader": {
     "cell_type": "markdown",
     "checksum": "d4dccb6653843b4b0f772305c8a4ea14",
     "grade": false,
     "grade_id": "cell-9cc788a10be53c88",
     "locked": true,
     "schema_version": 3,
     "solution": false
    },
    "resourcetopic": "Model Construction"
   },
   "source": [
    "## polyfit()"
   ]
  },
  {
   "cell_type": "markdown",
   "id": "interstate-crossing",
   "metadata": {
    "deletable": false,
    "editable": false,
    "nbgrader": {
     "cell_type": "markdown",
     "checksum": "cc4705f41c284223897c020e28b98889",
     "grade": false,
     "grade_id": "cell-b36367c40be7a836",
     "locked": true,
     "schema_version": 3,
     "solution": false
    },
    "resourcetopic": "Model Construction"
   },
   "source": [
    "MATLAB/Octave can be used to estimate a \"best fit\" polynomial function to match a dataset. The term \"best fit,\" in this context, means that the sum of the squared error between the model and the data is minimized. The command used to produce the set of coefficients is \"polyfit.\" An example of how to use the \"polyfit\" command to produce the best-fit line for a dataset is shown below."
   ]
  },
  {
   "cell_type": "code",
   "execution_count": 24,
   "id": "brave-admission",
   "metadata": {
    "resourcetopic": "Model Construction"
   },
   "outputs": [
    {
     "name": "stdout",
     "output_type": "stream",
     "text": [
      "m_estimate = -3.0345\n",
      "b_estimate =  4.2069\n"
     ]
    },
    {
     "data": {
      "image/png": "[encoded data removed]",
      "text/plain": [
       "<IPython.core.display.Image object>"
      ]
     },
     "metadata": {},
     "output_type": "display_data"
    }
   ],
   "source": [
    "% first, create some fake \"data\" we will fit a line to, in order to see how \"polyfit\" works.\n",
    "xfakedata = 0:.1:10;\n",
    "yfakedata = -3*xfakedata + 4 + .5*randn(size(xfakedata)); %the randn() on the end produces some random \"noise\" on our fake data.\n",
    "%this simulates the effect of having error in our measurements. If polyfit does its job, we should get the line y = -3x+4 back!\n",
    "\n",
    "%now we will actually use polyfit. The array \"coefficients\" will contain [m b] in the equation y = m*x+b.\n",
    "%the second argument to the polyfit() function is the ORDER of the polynomial. A line is a polynomial of order 1. \n",
    "%for reference, a quadratic is a polynomial of order 2.\n",
    "coefficients = polyfit(xfakedata,yfakedata,1); \n",
    "%was m=-3 and b=4?\n",
    "m_estimate = coefficients(1)\n",
    "b_estimate = coefficients(2)\n",
    "\n",
    "%now, these coefficients fully define a \"model\" of our relationship y = m*x+b. Let's produce predictions based on this model\n",
    "ymodel = m_estimate*xfakedata + b_estimate;\n",
    "\n",
    "%now plot the data and the model together to evaluate.\n",
    "figure\n",
    "plot(xfakedata,yfakedata,'ks',xfakedata,ymodel,'r')\n",
    "xlabel('x')\n",
    "ylabel('y')\n",
    "legend('data','model')"
   ]
  },
  {
   "cell_type": "markdown",
   "id": "divine-papua",
   "metadata": {},
   "source": [
    "# Common Errors\n",
    "\n",
    "Errors are common, even if you're an expert programmer. Reading the error carefully will give you an idea of what is wrong with your code. Below are some common error archetypes and some hints about what they mean. As you debug your code, talking your way through every term in every line can help!"
   ]
  },
  {
   "cell_type": "markdown",
   "id": "generous-replication",
   "metadata": {},
   "source": [
    "## error: index (something): out of bound 1\n",
    "\n",
    "This usually means you're trying to index a variable that is either not a matrix, or is a matrix that is too small for the index you're requesting. See the example below:"
   ]
  },
  {
   "cell_type": "code",
   "execution_count": 25,
   "id": "cross-relay",
   "metadata": {},
   "outputs": [
    {
     "name": "stdout",
     "output_type": "stream",
     "text": [
      "error: a(3): out of bound 1\n",
      "b =\n",
      "\n",
      "   1   1\n",
      "   1   1\n",
      "\n",
      "error: b(3,_): but b has size 2x2\n"
     ]
    }
   ],
   "source": [
    "% set a as one number\n",
    "a = 1;\n",
    "%try to access the 3rd element in a\n",
    "a(3)\n",
    "%let's say b is actually a matrix\n",
    "b = ones(2,2)\n",
    "%but we try to access the 3rd row, 1st column. The error looks slightly different, but the effect is the same.\n",
    "b(3,1)"
   ]
  },
  {
   "cell_type": "markdown",
   "id": "tight-assignment",
   "metadata": {},
   "source": [
    "## error: plt2vv: vector lengths must match\n",
    "\n",
    "This usually occurs if we try to plot a pair of x and y data that are not the same size. See the example below."
   ]
  },
  {
   "cell_type": "code",
   "execution_count": 26,
   "id": "aerial-curve",
   "metadata": {},
   "outputs": [
    {
     "name": "stdout",
     "output_type": "stream",
     "text": [
      "error: __plt2vv__: vector lengths must match\r\n",
      "error: called from\r\n",
      "    __plt__>__plt2vv__ at line 489 column 5\r\n",
      "    __plt__>__plt2__ at line 248 column 14\r\n",
      "    __plt__ at line 113 column 17\r\n",
      "    plot at line 223 column 10\r\n"
     ]
    },
    {
     "data": {
      "image/png": "[encoded data removed]",
      "text/plain": [
       "<IPython.core.display.Image object>"
      ]
     },
     "metadata": {},
     "output_type": "display_data"
    }
   ],
   "source": [
    "t = 1:2:10; %time vector goes 1 3 5 7 9, having length 5\n",
    "y = 1:10; %y vector goes  1 2 3 4 5 6 7 8 9 10, having length 10\n",
    "\n",
    "plot(t,y)"
   ]
  },
  {
   "cell_type": "markdown",
   "id": "closed-wound",
   "metadata": {},
   "source": [
    "## error: =: nonconformant arguments (op1 is 1x1, op2 is somethingx1)\n",
    "\n",
    "This error often indicates that you are trying to set one element in a matrix equal to another variable that has many elements. See the example below:"
   ]
  },
  {
   "cell_type": "code",
   "execution_count": 27,
   "id": "moderate-level",
   "metadata": {},
   "outputs": [
    {
     "name": "stdout",
     "output_type": "stream",
     "text": [
      "q =\n",
      "\n",
      "   0   0   0   0   0   0   0   0   0   0\n",
      "\n",
      "error: =: nonconformant arguments (op1 is 1x1, op2 is 1x21)\n",
      "q =\n",
      "\n",
      " Columns 1 through 8:\n",
      "\n",
      "   0.00000   0.00000   0.20000   0.00000   0.00000   0.00000   0.00000   0.00000\n",
      "\n",
      " Columns 9 and 10:\n",
      "\n",
      "   0.00000   0.00000\n",
      "\n"
     ]
    }
   ],
   "source": [
    "%say we have a vector v\n",
    "v = 0:.1:2;\n",
    "\n",
    "%now we have some other vector q\n",
    "q = zeros(1,10)\n",
    "\n",
    "%now let's imagine we tried to set the third element in q to v\n",
    "q(3) = v\n",
    "\n",
    "%we get the error! What we COULD do is set the third element in q to v(3) .\n",
    "q(3) = v(3)"
   ]
  },
  {
   "cell_type": "markdown",
   "id": "nonprofit-palestinian",
   "metadata": {},
   "source": [
    "## error: 'something' undefined near line 1 column something\n",
    "\n",
    "This error means that I am attempting to use a variable in a calculation before it is defined. See the example below:"
   ]
  },
  {
   "cell_type": "code",
   "execution_count": 28,
   "id": "purple-fashion",
   "metadata": {},
   "outputs": [
    {
     "name": "stdout",
     "output_type": "stream",
     "text": [
      "error: 'b' undefined near line 2 column 7\n",
      "b =  2\n"
     ]
    }
   ],
   "source": [
    "clear all\n",
    "%say I try to perform a calculation that uses a variable \"b.\" I have defined no such variable yet.\n",
    "a = 2*b\n",
    "%NOW I define b\n",
    "b = 2"
   ]
  },
  {
   "cell_type": "markdown",
   "id": "derived-aberdeen",
   "metadata": {},
   "source": [
    "## error: subscripts must be either integers 1 to (2^31)-1 or logicals\n",
    "In the \"indexing\" introduction, we mentioned that we can access parts of a matrix by specifying row and column. This error means that we're attempting to access a \"partial row\" or \"partial column\" of a matrix. See the example below:"
   ]
  },
  {
   "cell_type": "code",
   "execution_count": 29,
   "id": "outer-video",
   "metadata": {},
   "outputs": [
    {
     "name": "stdout",
     "output_type": "stream",
     "text": [
      "a =\n",
      "\n",
      "   1   2   3\n",
      "\n",
      "ans =  2\n",
      "error: a(0.2): subscripts must be either integers 1 to (2^31)-1 or logicals\n",
      "error: a(0): subscripts must be either integers 1 to (2^31)-1 or logicals\n"
     ]
    }
   ],
   "source": [
    "a = [1 2 3]\n",
    "%this works:\n",
    "a(2)\n",
    "%but this does not.\n",
    "a(.2)\n",
    "%and neither does this, since there is no 0 index in matlab\n",
    "a(0)"
   ]
  },
  {
   "cell_type": "markdown",
   "id": "committed-therapy",
   "metadata": {},
   "source": [
    "This error is also common if you forget to include a `*` between two parenthetical quantities you were trying to multiply. See the example below:"
   ]
  },
  {
   "cell_type": "code",
   "execution_count": 30,
   "id": "persistent-repeat",
   "metadata": {},
   "outputs": [
    {
     "name": "stdout",
     "output_type": "stream",
     "text": [
      "error: index (4.3): subscripts must be either integers 1 to (2^31)-1 or logicals\n",
      "d =  0.34884\n"
     ]
    }
   ],
   "source": [
    "a = 1;\n",
    "b = 2;\n",
    "c = 3;\n",
    "\n",
    "%this won't work!\n",
    "d = c/((1+a)(2.3+b))\n",
    "\n",
    "%but this will!\n",
    "d = c/((1+a)*(2.3+b))"
   ]
  },
  {
   "cell_type": "markdown",
   "id": "optical-austria",
   "metadata": {},
   "source": [
    "## parse error or syntax error: \n",
    "\n",
    "Parse errors are hard to track down, but they usually mean that you have typed something that Octave doesn't know how to interpret. An example is given below:"
   ]
  },
  {
   "cell_type": "code",
   "execution_count": 31,
   "id": "afraid-hurricane",
   "metadata": {},
   "outputs": [
    {
     "name": "stdout",
     "output_type": "stream",
     "text": [
      "a =  2\n",
      "parse error:\n",
      "\n",
      "  syntax error\n",
      "\n",
      ">>> 1$\n",
      "     ^\n",
      "\n"
     ]
    }
   ],
   "source": [
    "a = 2\n",
    "1$"
   ]
  },
  {
   "cell_type": "markdown",
   "id": "efficient-vietnamese",
   "metadata": {},
   "source": [
    "Syntax errors are also common if you are missing a parenthesis, or if you have an extra one! See the example below."
   ]
  },
  {
   "cell_type": "code",
   "execution_count": 32,
   "id": "polished-husband",
   "metadata": {},
   "outputs": [
    {
     "name": "stdout",
     "output_type": "stream",
     "text": [
      "parse error:\r\n",
      "\r\n",
      "  syntax error\r\n",
      "\r\n",
      ">>> (a+2))\r\n",
      "         ^\r\n",
      "\r\n"
     ]
    }
   ],
   "source": [
    "a = 2;\n",
    "b = 3;\n",
    "g = 10;\n",
    "\n",
    "(a+2))"
   ]
  },
  {
   "cell_type": "code",
   "execution_count": null,
   "id": "tight-dealing",
   "metadata": {},
   "outputs": [],
   "source": []
  }
 ],
 "metadata": {
  "kernelspec": {
   "display_name": "Octave",
   "language": "octave",
   "name": "octave"
  },
  "language_info": {
   "file_extension": ".m",
   "help_links": [
    {
     "text": "GNU Octave",
     "url": "https://www.gnu.org/software/octave/support.html"
    },
    {
     "text": "Octave Kernel",
     "url": "https://github.com/Calysto/octave_kernel"
    },
    {
     "text": "MetaKernel Magics",
     "url": "https://metakernel.readthedocs.io/en/latest/source/README.html"
    }
   ],
   "mimetype": "text/x-octave",
   "name": "octave",
   "version": "4.2.2"
  },
  "toc": {
   "base_numbering": 1,
   "nav_menu": {},
   "number_sections": true,
   "sideBar": true,
   "skip_h1_title": false,
   "title_cell": "Table of Contents",
   "title_sidebar": "Contents",
   "toc_cell": true,
   "toc_position": {},
   "toc_section_display": true,
   "toc_window_display": false
  }
 },
 "nbformat": 4,
 "nbformat_minor": 5
}
